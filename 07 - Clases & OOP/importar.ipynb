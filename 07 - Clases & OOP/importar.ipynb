{
 "cells": [
  {
   "cell_type": "code",
   "execution_count": 1,
   "metadata": {},
   "outputs": [],
   "source": [
    "from Herramientas_creadas import*"
   ]
  },
  {
   "cell_type": "code",
   "execution_count": 4,
   "metadata": {},
   "outputs": [],
   "source": [
    "h=Herramientas([1,2,1,5,5,4,8,8,7])"
   ]
  },
  {
   "cell_type": "code",
   "execution_count": 5,
   "metadata": {},
   "outputs": [
    {
     "name": "stdout",
     "output_type": "stream",
     "text": [
      "el factorial de 1 es 1\n",
      "el factorial de 2 es 2\n",
      "el factorial de 1 es 1\n",
      "el factorial de 5 es 120\n",
      "el factorial de 5 es 120\n",
      "el factorial de 4 es 24\n",
      "el factorial de 8 es 40320\n",
      "el factorial de 8 es 40320\n",
      "el factorial de 7 es 5040\n"
     ]
    }
   ],
   "source": [
    "h.factorial()"
   ]
  }
 ],
 "metadata": {
  "kernelspec": {
   "display_name": "Python 3",
   "language": "python",
   "name": "python3"
  },
  "language_info": {
   "codemirror_mode": {
    "name": "ipython",
    "version": 3
   },
   "file_extension": ".py",
   "mimetype": "text/x-python",
   "name": "python",
   "nbconvert_exporter": "python",
   "pygments_lexer": "ipython3",
   "version": "3.10.10"
  },
  "orig_nbformat": 4
 },
 "nbformat": 4,
 "nbformat_minor": 2
}
