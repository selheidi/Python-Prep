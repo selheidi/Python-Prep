{
 "cells": [
  {
   "attachments": {},
   "cell_type": "markdown",
   "metadata": {},
   "source": [
    "Crear una función que reciba un número como parámetro y devuelva si True si es primo y False si no lo es"
   ]
  },
  {
   "cell_type": "code",
   "execution_count": 51,
   "metadata": {},
   "outputs": [],
   "source": [
    "def primo (numero):\n",
    "    es_primo=True\n",
    "    for div in range (2,numero):\n",
    "        if numero%div==0:\n",
    "            es_primo=False\n",
    "            break\n",
    "    return es_primo\n",
    "\n"
   ]
  },
  {
   "cell_type": "code",
   "execution_count": 52,
   "metadata": {},
   "outputs": [
    {
     "data": {
      "text/plain": [
       "False"
      ]
     },
     "execution_count": 52,
     "metadata": {},
     "output_type": "execute_result"
    }
   ],
   "source": [
    "primo(9)"
   ]
  },
  {
   "attachments": {},
   "cell_type": "markdown",
   "metadata": {},
   "source": [
    "2) Utilizando la función del punto 1, realizar otra función que reciba de parámetro una lista de números y devuelva sólo aquellos que son primos en otra lista"
   ]
  },
  {
   "cell_type": "code",
   "execution_count": 57,
   "metadata": {},
   "outputs": [],
   "source": [
    "def lista_primos(lista_completa):\n",
    "    lista_primos=[]\n",
    "    for numero in lista_completa:\n",
    "        if primo(numero):\n",
    "            lista_primos.append(numero)\n",
    "\n",
    "    return lista_primos\n"
   ]
  },
  {
   "cell_type": "code",
   "execution_count": 60,
   "metadata": {},
   "outputs": [],
   "source": [
    "lista_completa = [1,2,3,4,5,6,7,8,9,10,19,17]"
   ]
  },
  {
   "cell_type": "code",
   "execution_count": 61,
   "metadata": {},
   "outputs": [
    {
     "data": {
      "text/plain": [
       "[1, 2, 3, 5, 7, 19, 17]"
      ]
     },
     "execution_count": 61,
     "metadata": {},
     "output_type": "execute_result"
    }
   ],
   "source": [
    "lista_primos(lista_completa)"
   ]
  },
  {
   "attachments": {},
   "cell_type": "markdown",
   "metadata": {},
   "source": [
    "3) Crear una función que al recibir una lista de números, devuelva el que más se repite y cuántas veces lo hace. Si hay más de un \"más repetido\", que devuelva cualquiera"
   ]
  },
  {
   "cell_type": "code",
   "execution_count": 106,
   "metadata": {},
   "outputs": [],
   "source": [
    "lista=[1,1,1,3,3,6,6,6,6,6]"
   ]
  },
  {
   "cell_type": "code",
   "execution_count": 118,
   "metadata": {},
   "outputs": [],
   "source": [
    "def valor_modal(lista):\n",
    "    valor_unico=[]\n",
    "    repeticion=[]\n",
    "    if (len(lista)==0):\n",
    "        return None\n",
    "    for elemento in lista:\n",
    "        if elemento in valor_unico:\n",
    "            i=valor_unico.index(elemento)\n",
    "            repeticion[i]+=1\n",
    "        else:\n",
    "            valor_unico.append(elemento)\n",
    "            repeticion.append(1)\n",
    "    moda=valor_unico[0]\n",
    "    maximo=repeticion[0]\n",
    "    for i, elemento in enumerate(valor_unico):\n",
    "        if repeticion[i]>maximo:\n",
    "            moda=valor_unico[i]\n",
    "            maximo=repeticion[i]\n",
    "    return moda, 'se repite', maximo       \n",
    "\n",
    "\n",
    "\n"
   ]
  },
  {
   "cell_type": "code",
   "execution_count": 119,
   "metadata": {},
   "outputs": [
    {
     "data": {
      "text/plain": [
       "(6, 'se repite', 5)"
      ]
     },
     "execution_count": 119,
     "metadata": {},
     "output_type": "execute_result"
    }
   ],
   "source": [
    "valor_modal(lista)"
   ]
  },
  {
   "attachments": {},
   "cell_type": "markdown",
   "metadata": {},
   "source": [
    "4) A la función del punto 3, agregar un parámetro más, que permita elegir si se requiere el menor o el mayor de los mas repetidos."
   ]
  },
  {
   "cell_type": "code",
   "execution_count": null,
   "metadata": {},
   "outputs": [],
   "source": [
    "def valor_modal(lista,menor):\n",
    "    '''\n",
    "    \n",
    "    '''\n",
    "    valor_unico=[]\n",
    "    repeticion=[]\n",
    "    if (len(lista)==0):\n",
    "        return None\n",
    "    for elemento in lista:\n",
    "        if elemento in valor_unico:\n",
    "            i=valor_unico.index(elemento)\n",
    "            repeticion[i]+=1\n",
    "        else:\n",
    "            valor_unico.append(elemento)\n",
    "            repeticion.append(1)\n",
    "    moda=valor_unico[0]\n",
    "    maximo=repeticion[0]\n",
    "    for i, elemento in enumerate(valor_unico):\n",
    "        if repeticion[i]>maximo:\n",
    "            moda=valor_unico[i]\n",
    "            maximo=repeticion[i]\n",
    "    return moda, 'se repite', maximo      "
   ]
  },
  {
   "attachments": {},
   "cell_type": "markdown",
   "metadata": {},
   "source": [
    "5) Crear una función que convierta entre grados Celsius, Farenheit y Kelvin<br>\n",
    "Fórmula 1\t: (°C × 9/5) + 32 = °F<br>\n",
    "Fórmula 2\t: °C + 273.15 = °K<br>\n",
    "Debe recibir 3 parámetros: el valor, la medida de orígen y la medida de destino\n"
   ]
  },
  {
   "cell_type": "code",
   "execution_count": 123,
   "metadata": {},
   "outputs": [],
   "source": [
    "def conversor_temp(valor,origen,destino):\n",
    "    if origen == 'celsius':\n",
    "        if destino=='farenheit':\n",
    "            valor=(valor*9/5)+32\n",
    "        elif destino=='kelvin':\n",
    "            valor=valor+273.15\n",
    "        else:\n",
    "            valor=valor\n",
    "    if origen == 'farenheit':\n",
    "        if destino=='celsius':\n",
    "            valor=(valor-32)*5/9\n",
    "        elif destino=='kelvin':\n",
    "            valor=((valor-32)*5/9)+273.15\n",
    "        else:\n",
    "            valor=valor   \n",
    "    if origen == 'kelvin' :\n",
    "        if destino=='farenheit':\n",
    "            valor=((valor-273.15)*9/5)+32\n",
    "        elif destino=='celsius':\n",
    "            valor=valor-273.15\n",
    "        else:\n",
    "            valor=valor    \n",
    "    return valor"
   ]
  },
  {
   "cell_type": "code",
   "execution_count": 127,
   "metadata": {},
   "outputs": [
    {
     "data": {
      "text/plain": [
       "68.0"
      ]
     },
     "execution_count": 127,
     "metadata": {},
     "output_type": "execute_result"
    }
   ],
   "source": [
    "conversor_temp(293.15,'kelvin','farenheit')"
   ]
  },
  {
   "cell_type": "code",
   "execution_count": 125,
   "metadata": {},
   "outputs": [
    {
     "data": {
      "text/plain": [
       "293.15"
      ]
     },
     "execution_count": 125,
     "metadata": {},
     "output_type": "execute_result"
    }
   ],
   "source": [
    "conversor_temp(20,'celsius','kelvin')"
   ]
  },
  {
   "attachments": {},
   "cell_type": "markdown",
   "metadata": {},
   "source": [
    "6) Iterando una lista con los tres valores posibles de temperatura que recibe la función del punto 5, hacer un print para cada combinación de los mismos:\n"
   ]
  },
  {
   "cell_type": "code",
   "execution_count": 130,
   "metadata": {},
   "outputs": [
    {
     "name": "stdout",
     "output_type": "stream",
     "text": [
      "20 grados celsius son 20 grados celsius\n",
      "20 grados celsius son 68.0 grados farenheit\n",
      "20 grados celsius son 293.15 grados kelvin\n",
      "20 grados farenheit son -6.666666666666667 grados celsius\n",
      "20 grados farenheit son 20 grados farenheit\n",
      "20 grados farenheit son 266.4833333333333 grados kelvin\n",
      "20 grados kelvin son -253.14999999999998 grados celsius\n",
      "20 grados kelvin son -423.66999999999996 grados farenheit\n",
      "20 grados kelvin son 20 grados kelvin\n"
     ]
    }
   ],
   "source": [
    "temperaturas=['celsius','farenheit','kelvin']\n",
    "\n",
    "for origen in temperaturas:\n",
    "    for destino in temperaturas:\n",
    "        print('20 grados', origen, 'son', conversor_temp(20,origen,destino), 'grados', destino)\n",
    "        \n"
   ]
  },
  {
   "attachments": {},
   "cell_type": "markdown",
   "metadata": {},
   "source": [
    "7) Armar una función que devuelva el factorial de un número. Tener en cuenta que el usuario puede equivocarse y enviar de parámetro un número no entero o negativo\n"
   ]
  },
  {
   "cell_type": "code",
   "execution_count": 4,
   "metadata": {},
   "outputs": [],
   "source": [
    "def factorial(numero):\n",
    "    if (numero<0):\n",
    "        return None\n",
    "    if (type(numero)!=int):\n",
    "        return None\n",
    "    if (numero>1):\n",
    "        numero=numero*(factorial(numero-1))\n",
    "    return numero"
   ]
  },
  {
   "cell_type": "code",
   "execution_count": 5,
   "metadata": {},
   "outputs": [
    {
     "data": {
      "text/plain": [
       "120"
      ]
     },
     "execution_count": 5,
     "metadata": {},
     "output_type": "execute_result"
    }
   ],
   "source": [
    "factorial(5)"
   ]
  }
 ],
 "metadata": {
  "kernelspec": {
   "display_name": "Python 3",
   "language": "python",
   "name": "python3"
  },
  "language_info": {
   "name": "python",
   "version": "3.10.10"
  },
  "orig_nbformat": 4
 },
 "nbformat": 4,
 "nbformat_minor": 2
}
